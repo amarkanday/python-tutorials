{
 "cells": [
  {
   "cell_type": "markdown",
   "id": "af10654d-c4ed-4e9b-a897-5f2264e9f411",
   "metadata": {},
   "source": [
    "Creating a Python test to assess data analysis and modeling skills for a Staff Data Scientist position involves designing questions that evaluate a candidate's ability to work with data, perform analysis, and build predictive models. Here’s a sample test consisting of various tasks:\n",
    "\n",
    "### Python Test for Data Analysis and Modeling Skills\n",
    "\n",
    "#### Instructions\n",
    "- You have 90 minutes to complete the test.\n",
    "- You may use any libraries or tools you are comfortable with.\n",
    "- Submit your code and a brief report summarizing your findings and conclusions.\n",
    "\n",
    "#### Dataset\n",
    "You will work with a fictional retail dataset named `retail_data.csv`. It contains the following columns:\n",
    "- `order_id`: Unique identifier for each order\n",
    "- `customer_id`: Unique identifier for each customer\n",
    "- `order_date`: Date when the order was placed\n",
    "- `product_id`: Unique identifier for each product\n",
    "- `quantity`: Number of items purchased\n",
    "- `price`: Price of each item\n",
    "- `category`: Category of the product (e.g., Electronics, Clothing, Groceries)\n",
    "\n",
    "#### Tasks\n",
    "\n",
    "1. **Data Cleaning (20 minutes)**\n",
    "   - Load the dataset and check for missing values. Handle any missing data appropriately.\n",
    "   - Convert the `order_date` column to a datetime object and extract the year and month into new columns.\n",
    "\n",
    "2. **Exploratory Data Analysis (EDA) (30 minutes)**\n",
    "   - Generate summary statistics for numerical columns.\n",
    "   - Create visualizations to answer the following questions:\n",
    "     - What is the distribution of sales by product category?\n",
    "     - How do sales vary over time (monthly sales trend)?\n",
    "     - Identify the top 5 products by total sales.\n",
    "\n",
    "3. **Feature Engineering (15 minutes)**\n",
    "   - Create a new feature called `total_sales` which is calculated as `quantity * price`.\n",
    "   - Create any additional features that you think might be relevant for predicting future sales.\n",
    "\n",
    "4. **Modeling (25 minutes)**\n",
    "   - Split the data into training and testing sets (80% training, 20% testing).\n",
    "   - Build a regression model to predict `total_sales` based on the features you engineered.\n",
    "   - Evaluate your model using appropriate metrics (e.g., RMSE, R²).\n",
    "\n",
    "5. **Reporting (Optional)**\n",
    "   - Provide a brief report (1-2 pages) summarizing your analysis, modeling approach, results, and any recommendations based on your findings.\n",
    "\n",
    "#### Submission\n",
    "- Submit your Python code as a Jupyter Notebook or Python script.\n",
    "- Include visualizations and a summary report in your submission.\n",
    "\n",
    "### Evaluation Criteria\n",
    "- **Data Cleaning**: Appropriateness of handling missing values and data types.\n",
    "- **EDA**: Depth of analysis and quality of visualizations.\n",
    "- **Feature Engineering**: Creativity and relevance of features created.\n",
    "- **Modeling**: Correctness of the model, choice of algorithms, and evaluation metrics.\n",
    "- **Clarity of Reporting**: Ability to communicate findings clearly and effectively.\n",
    "\n",
    "### Notes\n",
    "- You may use libraries such as Pandas, NumPy, Matplotlib, Seaborn, and Scikit-learn.\n",
    "- Make sure your code is well-documented with comments explaining your thought process.\n",
    "\n",
    "This test provides a comprehensive evaluation of a candidate’s data analysis and modeling skills, relevant for a Staff Data Scientist role. Let me know if you need any modifications or additional details!"
   ]
  },
  {
   "cell_type": "code",
   "execution_count": 1,
   "id": "341b875a-388e-4e4f-bd95-7955ae836b2c",
   "metadata": {},
   "outputs": [
    {
     "data": {
      "text/plain": [
       "'./data/retail_data.csv'"
      ]
     },
     "execution_count": 1,
     "metadata": {},
     "output_type": "execute_result"
    }
   ],
   "source": [
    "### Create code \n",
    "\n",
    "import pandas as pd\n",
    "import numpy as np\n",
    "from datetime import datetime, timedelta\n",
    "\n",
    "# Parameters for generating the dataset\n",
    "num_records = 1000\n",
    "categories = ['Electronics', 'Clothing', 'Groceries', 'Home & Garden', 'Health & Beauty']\n",
    "start_date = datetime(2022, 1, 1)\n",
    "end_date = datetime(2024, 10, 1)\n",
    "\n",
    "# Generate random data\n",
    "data = {\n",
    "    'order_id': [f'ORD{str(i).zfill(6)}' for i in range(1, num_records + 1)],\n",
    "    'customer_id': [f'CUST{np.random.randint(1, 201)}' for _ in range(num_records)],\n",
    "    'order_date': [start_date + timedelta(days=np.random.randint(0, (end_date - start_date).days)) for _ in range(num_records)],\n",
    "    'product_id': [f'PROD{np.random.randint(1, 101)}' for _ in range(num_records)],\n",
    "    'quantity': np.random.randint(1, 10, size=num_records),\n",
    "    'price': np.round(np.random.uniform(5.0, 500.0, size=num_records), 2),\n",
    "    'category': [np.random.choice(categories) for _ in range(num_records)]\n",
    "}\n",
    "\n",
    "# Create DataFrame\n",
    "retail_data = pd.DataFrame(data)\n",
    "\n",
    "# Save to CSV\n",
    "csv_file_path = './data/retail_data.csv'\n",
    "retail_data.to_csv(csv_file_path, index=False)\n",
    "\n",
    "csv_file_path\n"
   ]
  },
  {
   "cell_type": "code",
   "execution_count": null,
   "id": "337b15a0-eb13-4f8a-88da-66509b926945",
   "metadata": {},
   "outputs": [],
   "source": [
    "## Data Cleaning (20 minutes)\n",
    "\n",
    "## Load the dataset and check for missing values. Handle any missing data appropriately.\n",
    "df = pd.read_csv(\"./data/retail_data.csv\")\n",
    "\n",
    "\n"
   ]
  },
  {
   "cell_type": "code",
   "execution_count": null,
   "id": "8b9b9b5b-26ff-4183-9316-4fae3f81a941",
   "metadata": {},
   "outputs": [],
   "source": [
    "#Convert the order_date column to a datetime object and extract the year and month into new column\n"
   ]
  },
  {
   "cell_type": "code",
   "execution_count": null,
   "id": "b80c8d49-c422-475c-bd83-436f506ff4d1",
   "metadata": {},
   "outputs": [],
   "source": [
    "#Exploratory Data Analysis (EDA) (30 minutes)\n",
    "\n",
    "## Generate summary statistics for numerical columns.\n",
    "\n",
    "\n",
    "## Create visualizations to answer the following questions:\n",
    "import matplotlib.pyplot as plt \n",
    "import seaborn as sns \n",
    "\n",
    "###What is the distribution of sales by product category?\n",
    "\n"
   ]
  },
  {
   "cell_type": "code",
   "execution_count": null,
   "id": "174cf5b5-7dd9-4f06-a53b-dc9d10a9d191",
   "metadata": {},
   "outputs": [],
   "source": [
    "###How do sales vary over time (monthly sales trend)?\n",
    "\n",
    "##Identify the top 5 products by total sales.\n"
   ]
  },
  {
   "cell_type": "code",
   "execution_count": null,
   "id": "14370de5-f3a6-4989-99d1-793228d74b03",
   "metadata": {},
   "outputs": [],
   "source": [
    "# Modeling (25 minutes)\n",
    "\n",
    "from sklearn.model_selection import train_test_split\n",
    "from sklearn.linear_model import LinearRegression\n",
    "from sklearn.metrics import mean_squared_error, r2_score\n",
    "from sklearn.preprocessing import MinMaxScaler(), OneHotEncoding\n",
    "\n",
    "\n",
    "## Split the data into training and testing sets (80% training, 20% testing).\n",
    "\n",
    "\n",
    "## Build a regression model to predict total_sales based on the features you engineered.\n",
    "\n",
    "\n",
    "## Evaluate your model using appropriate metrics (e.g., RMSE, R²)."
   ]
  },
  {
   "cell_type": "code",
   "execution_count": null,
   "id": "425556da-d3fd-4c11-96b3-6ae0742586ae",
   "metadata": {},
   "outputs": [],
   "source": []
  }
 ],
 "metadata": {
  "kernelspec": {
   "display_name": "Python 3 (ipykernel)",
   "language": "python",
   "name": "python3"
  },
  "language_info": {
   "codemirror_mode": {
    "name": "ipython",
    "version": 3
   },
   "file_extension": ".py",
   "mimetype": "text/x-python",
   "name": "python",
   "nbconvert_exporter": "python",
   "pygments_lexer": "ipython3",
   "version": "3.12.2"
  }
 },
 "nbformat": 4,
 "nbformat_minor": 5
}
