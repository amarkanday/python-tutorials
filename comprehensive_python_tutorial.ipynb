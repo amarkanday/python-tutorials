{
 "cells": [
  {
   "cell_type": "markdown",
   "id": "a9593535",
   "metadata": {},
   "source": [
    "# Comprehensive Python Tutorial"
   ]
  },
  {
   "cell_type": "raw",
   "id": "982bd962-949c-4988-820c-60dedaa63f0c",
   "metadata": {},
   "source": [
    "## 1. Introduction and Setup"
   ]
  },
  {
   "cell_type": "raw",
   "id": "2cb692bb-7dbd-4b17-8cd4-79d85d970f1c",
   "metadata": {},
   "source": [
    "Welcome to Python! Make sure you have Python and Jupyter Notebook installed."
   ]
  },
  {
   "cell_type": "raw",
   "id": "8fea988c-f6c6-4c3d-a4fe-33d20d6a81b6",
   "metadata": {},
   "source": [
    "## 2. Basic Syntax and Variables"
   ]
  },
  {
   "cell_type": "raw",
   "id": "d2b9c86f-e3fb-42cf-8df7-622c8617c27a",
   "metadata": {},
   "source": [
    "\n",
    "# Comments\n",
    "# This is a single-line comment.\n",
    "\"\"\"\n",
    "This is a multi-line comment.\n",
    "\"\"\"\n",
    "\n",
    "# Variables\n",
    "name = \"Alice\"  # String\n",
    "age = 30        # Integer\n",
    "height = 1.75   # Float\n",
    "is_student = True  # Boolean\n",
    "nothing = None    # NoneType\n",
    "\n",
    "print(f\"Name: {name}, Age: {age}, Height: {height}, Student: {is_student}, Nothing: {nothing}\")\n",
    "print(f\"Types: {type(name)}, {type(age)}, {type(height)}, {type(is_student)}, {type(nothing)}\")\n"
   ]
  },
  {
   "cell_type": "raw",
   "id": "442c4a59-d6f5-4913-88a3-4a3dbc72fe22",
   "metadata": {},
   "source": [
    "## 3. Operators"
   ]
  },
  {
   "cell_type": "code",
   "execution_count": null,
   "id": "c8e2e490",
   "metadata": {},
   "outputs": [],
   "source": [
    "\n",
    "# Arithmetic Operators\n",
    "print(\"5 + 3 =\", 5 + 3)\n",
    "print(\"5 - 3 =\", 5 - 3)\n",
    "print(\"5 * 3 =\", 5 * 3)\n",
    "print(\"5 / 3 =\", 5 / 3)\n",
    "print(\"5 // 3 =\", 5 // 3)  # Floor division\n",
    "print(\"5 % 3 =\", 5 % 3)   # Modulo\n",
    "print(\"5 ** 2 =\", 5 ** 2)  # Exponentiation\n",
    "\n",
    "# Comparison Operators\n",
    "print(\"5 == 3:\", 5 == 3)\n",
    "print(\"5 != 3:\", 5 != 3)\n",
    "print(\"5 > 3:\", 5 > 3)\n",
    "print(\"5 < 3:\", 5 < 3)\n",
    "print(\"5 >= 3:\", 5 >= 3)\n",
    "print(\"5 <= 3:\", 5 <= 3)\n",
    "\n",
    "# Logical Operators\n",
    "print(\"True and False:\", True and False)\n",
    "print(\"True or False:\", True or False)\n",
    "print(\"not True:\", not True)\n",
    "\n",
    "# Assignment Operators\n",
    "x = 5\n",
    "x += 3  # x = x + 3\n",
    "print(\"x:\", x)\n"
   ]
  },
  {
   "cell_type": "raw",
   "id": "852a040d-3cb3-4b91-96aa-701fd2370f02",
   "metadata": {},
   "source": [
    "## 4. Control Flow"
   ]
  },
  {
   "cell_type": "code",
   "execution_count": null,
   "id": "6e9e0481",
   "metadata": {},
   "outputs": [],
   "source": [
    "\n",
    "# if, elif, else\n",
    "num = 10\n",
    "if num > 0:\n",
    "    print(\"Positive\")\n",
    "elif num == 0:\n",
    "    print(\"Zero\")\n",
    "else:\n",
    "    print(\"Negative\")\n",
    "\n",
    "# for loop\n",
    "for i in range(5):\n",
    "    print(f\"Iteration: {i}\")\n",
    "\n",
    "# while loop\n",
    "count = 0\n",
    "while count < 3:\n",
    "    print(f\"Count: {count}\")\n",
    "    count += 1\n",
    "\n",
    "# break and continue\n",
    "for i in range(5):\n",
    "    if i == 3:\n",
    "        break  # Exit the loop\n",
    "    print(i)\n",
    "\n",
    "for i in range(5):\n",
    "    if i == 2:\n",
    "        continue  # Skip to the next iteration\n",
    "    print(i)\n"
   ]
  },
  {
   "cell_type": "raw",
   "id": "f9f7ebd8-6b4c-4428-b28d-29a39623bab2",
   "metadata": {},
   "source": [
    "## 5. Data Structures"
   ]
  },
  {
   "cell_type": "code",
   "execution_count": null,
   "id": "deae8bc1",
   "metadata": {},
   "outputs": [],
   "source": [
    "\n",
    "# Lists\n",
    "my_list = [1, 2, \"apple\", 3.14]\n",
    "print(my_list[0])\n",
    "my_list.append(\"banana\")\n",
    "print(my_list)\n",
    "my_list.insert(1, \"inserted\")\n",
    "print(my_list)\n",
    "del my_list[2]\n",
    "print(my_list)\n",
    "print(my_list[1:3])\n",
    "\n",
    "# Tuples\n",
    "my_tuple = (1, 2, \"hello\")\n",
    "print(my_tuple[0])\n",
    "# my_tuple[0] = 5  # Error: Tuples are immutable\n",
    "\n",
    "# Dictionaries\n",
    "my_dict = {\"name\": \"Alice\", \"age\": 30, \"city\": \"New York\"}\n",
    "print(my_dict[\"name\"])\n",
    "my_dict[\"job\"] = \"Engineer\"\n",
    "print(my_dict)\n",
    "print(my_dict.keys())\n",
    "print(my_dict.values())\n",
    "print(my_dict.items())\n",
    "\n",
    "# Sets\n",
    "my_set = {1, 2, 2, 3}  # Duplicates are removed\n",
    "print(my_set)\n",
    "my_set.add(4)\n",
    "print(my_set)\n",
    "my_set.remove(2)\n",
    "print(my_set)\n"
   ]
  },
  {
   "cell_type": "raw",
   "id": "58ef9a15-2784-49b9-a44c-a53d55c8d1d2",
   "metadata": {},
   "source": [
    "## 6. Functions"
   ]
  },
  {
   "cell_type": "code",
   "execution_count": null,
   "id": "d32c60ae",
   "metadata": {},
   "outputs": [],
   "source": [
    "\n",
    "def greet(name=\"Guest\"):\n",
    "    \"\"\"Greets a person.\"\"\"\n",
    "    print(f\"Hello, {name}!\")\n",
    "\n",
    "greet(\"Bob\")\n",
    "greet()\n",
    "\n",
    "def add(a, b):\n",
    "    \"\"\"Adds two numbers.\"\"\"\n",
    "    return a + b\n",
    "\n",
    "result = add(5, 7)\n",
    "print(\"Result:\", result)\n",
    "\n",
    "def multiple_returns():\n",
    "  return 1,2,3\n",
    "\n",
    "one, two, three = multiple_returns()\n",
    "print(one, two, three)\n"
   ]
  },
  {
   "cell_type": "raw",
   "id": "842edb99-c258-4132-abaf-3dad6e54a198",
   "metadata": {},
   "source": [
    "## 7. Modules and Packages"
   ]
  },
  {
   "cell_type": "code",
   "execution_count": null,
   "id": "b892b495",
   "metadata": {},
   "outputs": [],
   "source": [
    "\n",
    "import math\n",
    "print(\"Pi:\", math.pi)\n",
    "\n",
    "import random\n",
    "print(\"Random number:\", random.randint(1, 10))\n"
   ]
  },
  {
   "cell_type": "raw",
   "id": "1c2e43d5-c9b6-4a92-8d3b-bad00b4346af",
   "metadata": {},
   "source": [
    "## 8. Object-Oriented Programming (OOP)"
   ]
  },
  {
   "cell_type": "code",
   "execution_count": null,
   "id": "468e0fbb",
   "metadata": {},
   "outputs": [],
   "source": [
    "\n",
    "class Dog:\n",
    "    def __init__(self, name, breed):\n",
    "        self.name = name\n",
    "        self.breed = breed\n",
    "\n",
    "    def bark(self):\n",
    "        print(\"Woof!\")\n",
    "\n",
    "    def display(self):\n",
    "      print(f\"{self.name} is a {self.breed}\")\n",
    "\n",
    "my_dog = Dog(\"Buddy\", \"Golden Retriever\")\n",
    "my_dog.bark()\n",
    "my_dog.display()\n"
   ]
  },
  {
   "cell_type": "raw",
   "id": "21ced326-baa8-4c71-900f-57798d742cc6",
   "metadata": {},
   "source": [
    "## 9. Exception Handling"
   ]
  },
  {
   "cell_type": "code",
   "execution_count": null,
   "id": "9f34d14c",
   "metadata": {},
   "outputs": [],
   "source": [
    "\n",
    "try:\n",
    "    result = 10 / 0\n",
    "except ZeroDivisionError:\n",
    "    print(\"Cannot divide by zero.\")\n",
    "except Exception as e:\n",
    "    print(f\"An error occurred: {e}\")\n",
    "else:\n",
    "    print(\"No errors occurred.\")\n",
    "finally:\n",
    "    print(\"This block always executes.\")\n"
   ]
  },
  {
   "cell_type": "raw",
   "id": "5682a564-ddd1-4827-aa53-3e10d6628e59",
   "metadata": {},
   "source": [
    "## 10. List Comprehensions and Generators"
   ]
  },
  {
   "cell_type": "code",
   "execution_count": null,
   "id": "df36468a",
   "metadata": {},
   "outputs": [],
   "source": [
    "\n",
    "squares = [x**2 for x in range(10)]\n",
    "print(squares)\n",
    "\n",
    "even_squares = [x**2 for x in range(10) if x % 2 == 0]\n",
    "print(even_squares)\n",
    "\n",
    "def count_up_to(max):\n",
    "  i = 1\n",
    "  while i <= max:\n",
    "    yield i\n",
    "    i+=1\n",
    "\n",
    "for num in count_up_to(5):\n",
    "  print(num)\n"
   ]
  },
  {
   "cell_type": "raw",
   "id": "5d1864a7-2f33-40fd-a6d4-eb23c485dc01",
   "metadata": {},
   "source": [
    "## 11. File Handling"
   ]
  },
  {
   "cell_type": "code",
   "execution_count": null,
   "id": "f14b2533",
   "metadata": {},
   "outputs": [],
   "source": [
    "\n",
    "with open(\"example.txt\", \"w\") as file:\n",
    "    file.write(\"Hello, file!\")\n",
    "\n",
    "with open(\"example.txt\", \"r\") as file:\n",
    "    content = file.read()\n",
    "    print(\"File content:\", content)\n"
   ]
  },
  {
   "cell_type": "markdown",
   "id": "a5d10aa2",
   "metadata": {},
   "source": [
    "## End of Tutorial"
   ]
  }
 ],
 "metadata": {
  "kernelspec": {
   "display_name": "Python 3 (ipykernel)",
   "language": "python",
   "name": "python3"
  },
  "language_info": {
   "codemirror_mode": {
    "name": "ipython",
    "version": 3
   },
   "file_extension": ".py",
   "mimetype": "text/x-python",
   "name": "python",
   "nbconvert_exporter": "python",
   "pygments_lexer": "ipython3",
   "version": "3.12.2"
  }
 },
 "nbformat": 4,
 "nbformat_minor": 5
}
